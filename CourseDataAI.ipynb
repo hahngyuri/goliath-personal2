{
  "nbformat": 4,
  "nbformat_minor": 0,
  "metadata": {
    "colab": {
      "private_outputs": true,
      "provenance": [],
      "toc_visible": true,
      "authorship_tag": "ABX9TyPPA6mOgL+3iYpk0Najpxc2",
      "include_colab_link": true
    },
    "kernelspec": {
      "name": "python3",
      "display_name": "Python 3"
    },
    "language_info": {
      "name": "python"
    }
  },
  "cells": [
    {
      "cell_type": "markdown",
      "metadata": {
        "id": "view-in-github",
        "colab_type": "text"
      },
      "source": [
        "<a href=\"https://colab.research.google.com/github/hahngyuri/goliath-personal2/blob/master/CourseDataAI.ipynb\" target=\"_parent\"><img src=\"https://colab.research.google.com/assets/colab-badge.svg\" alt=\"Open In Colab\"/></a>"
      ]
    },
    {
      "cell_type": "markdown",
      "source": [
        "Course [Data&AI] week 1\n",
        "\n",
        "-how to use colab\n",
        "-python"
      ],
      "metadata": {
        "id": "tRX4ni5aRzpq"
      }
    },
    {
      "cell_type": "code",
      "source": [
        "myname = \"gyuri\"\n",
        "print(myname)"
      ],
      "metadata": {
        "id": "XljF4Ik7RYTL"
      },
      "execution_count": null,
      "outputs": []
    },
    {
      "cell_type": "markdown",
      "source": [
        "run with Shift + Enter\n",
        "  : progress to the next cell\n",
        "\n",
        "run with Alt + Enter\n",
        "  : remain in that cell"
      ],
      "metadata": {
        "id": "LTbYq3U9SNUy"
      }
    },
    {
      "cell_type": "code",
      "source": [
        "%whos"
      ],
      "metadata": {
        "id": "TcrhgkLvRpSj"
      },
      "execution_count": null,
      "outputs": []
    },
    {
      "cell_type": "markdown",
      "source": [
        "Runtime - Restart Runtime\n",
        "  : namespace list become empty"
      ],
      "metadata": {
        "id": "DQTSZOkzVLD7"
      }
    },
    {
      "cell_type": "code",
      "source": [
        "def multiply(a,b=10) :\n",
        "  return a*b\n",
        "\n",
        "multiply(5,3)"
      ],
      "metadata": {
        "id": "TtRZ0Q4eS3ep"
      },
      "execution_count": null,
      "outputs": []
    },
    {
      "cell_type": "code",
      "source": [
        "multiply(5,)"
      ],
      "metadata": {
        "id": "vi9zA9NlSzni"
      },
      "execution_count": null,
      "outputs": []
    },
    {
      "cell_type": "code",
      "source": [
        "multiply(5)"
      ],
      "metadata": {
        "id": "8CDigQwNUayp"
      },
      "execution_count": null,
      "outputs": []
    },
    {
      "cell_type": "code",
      "source": [
        "%whos"
      ],
      "metadata": {
        "id": "SHmfSX9uUdzh"
      },
      "execution_count": null,
      "outputs": []
    },
    {
      "cell_type": "code",
      "source": [],
      "metadata": {
        "id": "oV5WCcbcVjCq"
      },
      "execution_count": null,
      "outputs": []
    }
  ]
}